{
  "nbformat": 4,
  "nbformat_minor": 0,
  "metadata": {
    "colab": {
      "name": "Incendio_florestal_final.ipynb",
      "version": "0.3.2",
      "provenance": [],
      "include_colab_link": true
    },
    "kernelspec": {
      "display_name": "Python 3",
      "language": "python",
      "name": "python3"
    }
  },
  "cells": [
    {
      "cell_type": "markdown",
      "metadata": {
        "id": "view-in-github",
        "colab_type": "text"
      },
      "source": [
        "<a href=\"https://colab.research.google.com/github/pd4ni3l/IA2/blob/master/Incendio_florestal_final.ipynb\" target=\"_parent\"><img src=\"https://colab.research.google.com/assets/colab-badge.svg\" alt=\"Open In Colab\"/></a>"
      ]
    },
    {
      "metadata": {
        "collapsed": true,
        "id": "4KrvSXJE_m_I",
        "colab_type": "code",
        "outputId": "e946f8e3-f88d-4581-c0c0-d67d5f0dcb26",
        "colab": {
          "base_uri": "https://localhost:8080/",
          "height": 68
        }
      },
      "cell_type": "code",
      "source": [
        "#LISTAR ARQUIVOS NA PASTA CORRENTE\n",
        "from __future__ import print_function\n",
        "import os,sys\n",
        "path = '.'\n",
        "# path = '../../../IA_REDES_NEURAIS/ML/elevador'\n",
        "# path = '../../../../Downloads'\n",
        " \n",
        "if len(sys.argv) == 2:\n",
        "    path = sys.argv[1]\n",
        " \n",
        " \n",
        "files = os.listdir(path)\n",
        "for name in files:\n",
        "    print(name)"
      ],
      "execution_count": 9,
      "outputs": [
        {
          "output_type": "stream",
          "text": [
            ".config\n",
            "forestfires.csv\n",
            "sample_data\n"
          ],
          "name": "stdout"
        }
      ]
    },
    {
      "metadata": {
        "id": "bPrWedus_m_S",
        "colab_type": "code",
        "colab": {}
      },
      "cell_type": "code",
      "source": [
        "import pandas as pd\n",
        "\n",
        "import numpy as np\n",
        "import matplotlib.pyplot as plt\n",
        "import matplotlib.cm as cm\n",
        "from time import process_time\n",
        "\n",
        "from sklearn.neural_network import MLPClassifier\n",
        "from sklearn.metrics import confusion_matrix\n",
        "from sklearn.metrics import classification_report\n",
        "from sklearn.cluster import KMeans\n",
        "from sklearn import svm\n",
        "from sklearn.decomposition import PCA\n",
        "from sklearn.model_selection import train_test_split"
      ],
      "execution_count": 0,
      "outputs": []
    },
    {
      "metadata": {
        "id": "YSOkRspZ_m_W",
        "colab_type": "text"
      },
      "cell_type": "markdown",
      "source": [
        "Base dados: https://archive.ics.uci.edu/ml/datasets/forest+fires \n",
        "Abstract: This is a difficult regression task, where the aim is to predict the burned area of forest fires, in the northeast region of Portugal, by using meteorological and other data. (http://www3.dsi.uminho.pt/pcortez/forestfires/)\n",
        "\n",
        "Resumo: Esta é uma tarefa de regressão difícil, onde o objetivo é prever a área queimada de incêndios florestais, na região nordeste de Portugal, usando dados meteorológicos e outros dados. (http://www3.dsi.uminho.pt/pcortez/forestfires/)"
      ]
    },
    {
      "metadata": {
        "id": "JY8U2780_m_Y",
        "colab_type": "code",
        "outputId": "d90942ce-57e8-4dbb-9531-9ab6c0c5edb4",
        "colab": {
          "base_uri": "https://localhost:8080/",
          "height": 359
        }
      },
      "cell_type": "code",
      "source": [
        "file_name = 'forestfires.csv'\n",
        "data = pd.read_csv(file_name, sep=',')\n",
        "#data = pd.read_csv(file_name, sep=',', usecols=['FFMC','DMC',\n",
        "#                                              'DC','ISI','temp',\n",
        "#                                             'RH','wind','rain'])\n",
        "data.head(10)"
      ],
      "execution_count": 52,
      "outputs": [
        {
          "output_type": "execute_result",
          "data": {
            "text/html": [
              "<div>\n",
              "<style scoped>\n",
              "    .dataframe tbody tr th:only-of-type {\n",
              "        vertical-align: middle;\n",
              "    }\n",
              "\n",
              "    .dataframe tbody tr th {\n",
              "        vertical-align: top;\n",
              "    }\n",
              "\n",
              "    .dataframe thead th {\n",
              "        text-align: right;\n",
              "    }\n",
              "</style>\n",
              "<table border=\"1\" class=\"dataframe\">\n",
              "  <thead>\n",
              "    <tr style=\"text-align: right;\">\n",
              "      <th></th>\n",
              "      <th>X</th>\n",
              "      <th>Y</th>\n",
              "      <th>month</th>\n",
              "      <th>day</th>\n",
              "      <th>FFMC</th>\n",
              "      <th>DMC</th>\n",
              "      <th>DC</th>\n",
              "      <th>ISI</th>\n",
              "      <th>temp</th>\n",
              "      <th>RH</th>\n",
              "      <th>wind</th>\n",
              "      <th>rain</th>\n",
              "      <th>area</th>\n",
              "    </tr>\n",
              "  </thead>\n",
              "  <tbody>\n",
              "    <tr>\n",
              "      <th>0</th>\n",
              "      <td>7</td>\n",
              "      <td>5</td>\n",
              "      <td>mar</td>\n",
              "      <td>fri</td>\n",
              "      <td>86.2</td>\n",
              "      <td>26.2</td>\n",
              "      <td>94.3</td>\n",
              "      <td>5.1</td>\n",
              "      <td>8.2</td>\n",
              "      <td>51</td>\n",
              "      <td>6.7</td>\n",
              "      <td>0.0</td>\n",
              "      <td>0.0</td>\n",
              "    </tr>\n",
              "    <tr>\n",
              "      <th>1</th>\n",
              "      <td>7</td>\n",
              "      <td>4</td>\n",
              "      <td>oct</td>\n",
              "      <td>tue</td>\n",
              "      <td>90.6</td>\n",
              "      <td>35.4</td>\n",
              "      <td>669.1</td>\n",
              "      <td>6.7</td>\n",
              "      <td>18.0</td>\n",
              "      <td>33</td>\n",
              "      <td>0.9</td>\n",
              "      <td>0.0</td>\n",
              "      <td>0.0</td>\n",
              "    </tr>\n",
              "    <tr>\n",
              "      <th>2</th>\n",
              "      <td>7</td>\n",
              "      <td>4</td>\n",
              "      <td>oct</td>\n",
              "      <td>sat</td>\n",
              "      <td>90.6</td>\n",
              "      <td>43.7</td>\n",
              "      <td>686.9</td>\n",
              "      <td>6.7</td>\n",
              "      <td>14.6</td>\n",
              "      <td>33</td>\n",
              "      <td>1.3</td>\n",
              "      <td>0.0</td>\n",
              "      <td>0.0</td>\n",
              "    </tr>\n",
              "    <tr>\n",
              "      <th>3</th>\n",
              "      <td>8</td>\n",
              "      <td>6</td>\n",
              "      <td>mar</td>\n",
              "      <td>fri</td>\n",
              "      <td>91.7</td>\n",
              "      <td>33.3</td>\n",
              "      <td>77.5</td>\n",
              "      <td>9.0</td>\n",
              "      <td>8.3</td>\n",
              "      <td>97</td>\n",
              "      <td>4.0</td>\n",
              "      <td>0.2</td>\n",
              "      <td>0.0</td>\n",
              "    </tr>\n",
              "    <tr>\n",
              "      <th>4</th>\n",
              "      <td>8</td>\n",
              "      <td>6</td>\n",
              "      <td>mar</td>\n",
              "      <td>sun</td>\n",
              "      <td>89.3</td>\n",
              "      <td>51.3</td>\n",
              "      <td>102.2</td>\n",
              "      <td>9.6</td>\n",
              "      <td>11.4</td>\n",
              "      <td>99</td>\n",
              "      <td>1.8</td>\n",
              "      <td>0.0</td>\n",
              "      <td>0.0</td>\n",
              "    </tr>\n",
              "    <tr>\n",
              "      <th>5</th>\n",
              "      <td>8</td>\n",
              "      <td>6</td>\n",
              "      <td>aug</td>\n",
              "      <td>sun</td>\n",
              "      <td>92.3</td>\n",
              "      <td>85.3</td>\n",
              "      <td>488.0</td>\n",
              "      <td>14.7</td>\n",
              "      <td>22.2</td>\n",
              "      <td>29</td>\n",
              "      <td>5.4</td>\n",
              "      <td>0.0</td>\n",
              "      <td>0.0</td>\n",
              "    </tr>\n",
              "    <tr>\n",
              "      <th>6</th>\n",
              "      <td>8</td>\n",
              "      <td>6</td>\n",
              "      <td>aug</td>\n",
              "      <td>mon</td>\n",
              "      <td>92.3</td>\n",
              "      <td>88.9</td>\n",
              "      <td>495.6</td>\n",
              "      <td>8.5</td>\n",
              "      <td>24.1</td>\n",
              "      <td>27</td>\n",
              "      <td>3.1</td>\n",
              "      <td>0.0</td>\n",
              "      <td>0.0</td>\n",
              "    </tr>\n",
              "    <tr>\n",
              "      <th>7</th>\n",
              "      <td>8</td>\n",
              "      <td>6</td>\n",
              "      <td>aug</td>\n",
              "      <td>mon</td>\n",
              "      <td>91.5</td>\n",
              "      <td>145.4</td>\n",
              "      <td>608.2</td>\n",
              "      <td>10.7</td>\n",
              "      <td>8.0</td>\n",
              "      <td>86</td>\n",
              "      <td>2.2</td>\n",
              "      <td>0.0</td>\n",
              "      <td>0.0</td>\n",
              "    </tr>\n",
              "    <tr>\n",
              "      <th>8</th>\n",
              "      <td>8</td>\n",
              "      <td>6</td>\n",
              "      <td>sep</td>\n",
              "      <td>tue</td>\n",
              "      <td>91.0</td>\n",
              "      <td>129.5</td>\n",
              "      <td>692.6</td>\n",
              "      <td>7.0</td>\n",
              "      <td>13.1</td>\n",
              "      <td>63</td>\n",
              "      <td>5.4</td>\n",
              "      <td>0.0</td>\n",
              "      <td>0.0</td>\n",
              "    </tr>\n",
              "    <tr>\n",
              "      <th>9</th>\n",
              "      <td>7</td>\n",
              "      <td>5</td>\n",
              "      <td>sep</td>\n",
              "      <td>sat</td>\n",
              "      <td>92.5</td>\n",
              "      <td>88.0</td>\n",
              "      <td>698.6</td>\n",
              "      <td>7.1</td>\n",
              "      <td>22.8</td>\n",
              "      <td>40</td>\n",
              "      <td>4.0</td>\n",
              "      <td>0.0</td>\n",
              "      <td>0.0</td>\n",
              "    </tr>\n",
              "  </tbody>\n",
              "</table>\n",
              "</div>"
            ],
            "text/plain": [
              "   X  Y month  day  FFMC    DMC     DC   ISI  temp  RH  wind  rain  area\n",
              "0  7  5   mar  fri  86.2   26.2   94.3   5.1   8.2  51   6.7   0.0   0.0\n",
              "1  7  4   oct  tue  90.6   35.4  669.1   6.7  18.0  33   0.9   0.0   0.0\n",
              "2  7  4   oct  sat  90.6   43.7  686.9   6.7  14.6  33   1.3   0.0   0.0\n",
              "3  8  6   mar  fri  91.7   33.3   77.5   9.0   8.3  97   4.0   0.2   0.0\n",
              "4  8  6   mar  sun  89.3   51.3  102.2   9.6  11.4  99   1.8   0.0   0.0\n",
              "5  8  6   aug  sun  92.3   85.3  488.0  14.7  22.2  29   5.4   0.0   0.0\n",
              "6  8  6   aug  mon  92.3   88.9  495.6   8.5  24.1  27   3.1   0.0   0.0\n",
              "7  8  6   aug  mon  91.5  145.4  608.2  10.7   8.0  86   2.2   0.0   0.0\n",
              "8  8  6   sep  tue  91.0  129.5  692.6   7.0  13.1  63   5.4   0.0   0.0\n",
              "9  7  5   sep  sat  92.5   88.0  698.6   7.1  22.8  40   4.0   0.0   0.0"
            ]
          },
          "metadata": {
            "tags": []
          },
          "execution_count": 52
        }
      ]
    },
    {
      "metadata": {
        "id": "oP-DSWCA_m_d",
        "colab_type": "text"
      },
      "cell_type": "markdown",
      "source": [
        "X - coordenada espacial do eixo x no mapa do parque de Montesinho: 1 a 9<br>\n",
        "Y - coordenada espacial do eixo y no mapa do parque de Montesinho: 1 a 9<br>\n",
        "month - mês do ano: 'jan' a 'dec'<br>\n",
        "day - dia da semana: 'mon' to 'sun'<br>\n",
        "FFMC - Índice FFMC do sistema FWI (Canadian Forest Fire Weather Index): 18,7 a 96,20<br>\n",
        "DMC - Índice DMC do sistema FWI: 1.1 a 291.3<br>\n",
        "DC - Índice DC do sistema FWI: 7,9 a 860,6<br>\n",
        "ISI - Índice ISI do sistema FWI: 0.0 a 56.10<br>\n",
        "temp - temperatura em graus Celsius, 2,2-33,30<br>\n",
        "RH - umidade relativa em%: 15,0 a 100<br>\n",
        "wind - velocidade do vento em km / h: 0.40 a 9.40<br>\n",
        "rain - chuva externa em mm / m2: 0.0 a 6.4<br>\n",
        "área - a área queimada da floresta (em ha): 0.00 a 1090.84"
      ]
    },
    {
      "metadata": {
        "id": "I5uIQtFFdCCU",
        "colab_type": "code",
        "colab": {
          "base_uri": "https://localhost:8080/",
          "height": 34
        },
        "outputId": "657f0d05-868d-497f-b25f-0bbbdeb0f5be"
      },
      "cell_type": "code",
      "source": [
        "data.shape"
      ],
      "execution_count": 53,
      "outputs": [
        {
          "output_type": "execute_result",
          "data": {
            "text/plain": [
              "(517, 13)"
            ]
          },
          "metadata": {
            "tags": []
          },
          "execution_count": 53
        }
      ]
    },
    {
      "metadata": {
        "id": "-yhupRK-_m_f",
        "colab_type": "code",
        "outputId": "94edebe4-bb64-47de-a8c4-37e76ed0d1aa",
        "colab": {
          "base_uri": "https://localhost:8080/",
          "height": 238
        }
      },
      "cell_type": "code",
      "source": [
        "data['month'].value_counts()"
      ],
      "execution_count": 54,
      "outputs": [
        {
          "output_type": "execute_result",
          "data": {
            "text/plain": [
              "aug    184\n",
              "sep    172\n",
              "mar     54\n",
              "jul     32\n",
              "feb     20\n",
              "jun     17\n",
              "oct     15\n",
              "apr      9\n",
              "dec      9\n",
              "may      2\n",
              "jan      2\n",
              "nov      1\n",
              "Name: month, dtype: int64"
            ]
          },
          "metadata": {
            "tags": []
          },
          "execution_count": 54
        }
      ]
    },
    {
      "metadata": {
        "id": "IbcxPhGW_m_k",
        "colab_type": "code",
        "outputId": "7619d53f-6c84-4da7-d8c0-cdaec41ae369",
        "colab": {
          "base_uri": "https://localhost:8080/",
          "height": 359
        }
      },
      "cell_type": "code",
      "source": [
        "# Convertendo meses alfanuméricos em numéricos\n",
        "# criando um dicionário dic  \n",
        "mes = {'jan': 1,'feb': 2, 'mar':3, 'apr': 4, 'may': 5, 'jun': 6, 'jul': 7, 'aug': 8, 'sep': 9, \n",
        "       'oct': 10, 'nov': 11, 'dec': 12} \n",
        "#print(data.month)\n",
        "data.month = [mes[item] for item in data.month] \n",
        "data.head(10)"
      ],
      "execution_count": 55,
      "outputs": [
        {
          "output_type": "execute_result",
          "data": {
            "text/html": [
              "<div>\n",
              "<style scoped>\n",
              "    .dataframe tbody tr th:only-of-type {\n",
              "        vertical-align: middle;\n",
              "    }\n",
              "\n",
              "    .dataframe tbody tr th {\n",
              "        vertical-align: top;\n",
              "    }\n",
              "\n",
              "    .dataframe thead th {\n",
              "        text-align: right;\n",
              "    }\n",
              "</style>\n",
              "<table border=\"1\" class=\"dataframe\">\n",
              "  <thead>\n",
              "    <tr style=\"text-align: right;\">\n",
              "      <th></th>\n",
              "      <th>X</th>\n",
              "      <th>Y</th>\n",
              "      <th>month</th>\n",
              "      <th>day</th>\n",
              "      <th>FFMC</th>\n",
              "      <th>DMC</th>\n",
              "      <th>DC</th>\n",
              "      <th>ISI</th>\n",
              "      <th>temp</th>\n",
              "      <th>RH</th>\n",
              "      <th>wind</th>\n",
              "      <th>rain</th>\n",
              "      <th>area</th>\n",
              "    </tr>\n",
              "  </thead>\n",
              "  <tbody>\n",
              "    <tr>\n",
              "      <th>0</th>\n",
              "      <td>7</td>\n",
              "      <td>5</td>\n",
              "      <td>3</td>\n",
              "      <td>fri</td>\n",
              "      <td>86.2</td>\n",
              "      <td>26.2</td>\n",
              "      <td>94.3</td>\n",
              "      <td>5.1</td>\n",
              "      <td>8.2</td>\n",
              "      <td>51</td>\n",
              "      <td>6.7</td>\n",
              "      <td>0.0</td>\n",
              "      <td>0.0</td>\n",
              "    </tr>\n",
              "    <tr>\n",
              "      <th>1</th>\n",
              "      <td>7</td>\n",
              "      <td>4</td>\n",
              "      <td>10</td>\n",
              "      <td>tue</td>\n",
              "      <td>90.6</td>\n",
              "      <td>35.4</td>\n",
              "      <td>669.1</td>\n",
              "      <td>6.7</td>\n",
              "      <td>18.0</td>\n",
              "      <td>33</td>\n",
              "      <td>0.9</td>\n",
              "      <td>0.0</td>\n",
              "      <td>0.0</td>\n",
              "    </tr>\n",
              "    <tr>\n",
              "      <th>2</th>\n",
              "      <td>7</td>\n",
              "      <td>4</td>\n",
              "      <td>10</td>\n",
              "      <td>sat</td>\n",
              "      <td>90.6</td>\n",
              "      <td>43.7</td>\n",
              "      <td>686.9</td>\n",
              "      <td>6.7</td>\n",
              "      <td>14.6</td>\n",
              "      <td>33</td>\n",
              "      <td>1.3</td>\n",
              "      <td>0.0</td>\n",
              "      <td>0.0</td>\n",
              "    </tr>\n",
              "    <tr>\n",
              "      <th>3</th>\n",
              "      <td>8</td>\n",
              "      <td>6</td>\n",
              "      <td>3</td>\n",
              "      <td>fri</td>\n",
              "      <td>91.7</td>\n",
              "      <td>33.3</td>\n",
              "      <td>77.5</td>\n",
              "      <td>9.0</td>\n",
              "      <td>8.3</td>\n",
              "      <td>97</td>\n",
              "      <td>4.0</td>\n",
              "      <td>0.2</td>\n",
              "      <td>0.0</td>\n",
              "    </tr>\n",
              "    <tr>\n",
              "      <th>4</th>\n",
              "      <td>8</td>\n",
              "      <td>6</td>\n",
              "      <td>3</td>\n",
              "      <td>sun</td>\n",
              "      <td>89.3</td>\n",
              "      <td>51.3</td>\n",
              "      <td>102.2</td>\n",
              "      <td>9.6</td>\n",
              "      <td>11.4</td>\n",
              "      <td>99</td>\n",
              "      <td>1.8</td>\n",
              "      <td>0.0</td>\n",
              "      <td>0.0</td>\n",
              "    </tr>\n",
              "    <tr>\n",
              "      <th>5</th>\n",
              "      <td>8</td>\n",
              "      <td>6</td>\n",
              "      <td>8</td>\n",
              "      <td>sun</td>\n",
              "      <td>92.3</td>\n",
              "      <td>85.3</td>\n",
              "      <td>488.0</td>\n",
              "      <td>14.7</td>\n",
              "      <td>22.2</td>\n",
              "      <td>29</td>\n",
              "      <td>5.4</td>\n",
              "      <td>0.0</td>\n",
              "      <td>0.0</td>\n",
              "    </tr>\n",
              "    <tr>\n",
              "      <th>6</th>\n",
              "      <td>8</td>\n",
              "      <td>6</td>\n",
              "      <td>8</td>\n",
              "      <td>mon</td>\n",
              "      <td>92.3</td>\n",
              "      <td>88.9</td>\n",
              "      <td>495.6</td>\n",
              "      <td>8.5</td>\n",
              "      <td>24.1</td>\n",
              "      <td>27</td>\n",
              "      <td>3.1</td>\n",
              "      <td>0.0</td>\n",
              "      <td>0.0</td>\n",
              "    </tr>\n",
              "    <tr>\n",
              "      <th>7</th>\n",
              "      <td>8</td>\n",
              "      <td>6</td>\n",
              "      <td>8</td>\n",
              "      <td>mon</td>\n",
              "      <td>91.5</td>\n",
              "      <td>145.4</td>\n",
              "      <td>608.2</td>\n",
              "      <td>10.7</td>\n",
              "      <td>8.0</td>\n",
              "      <td>86</td>\n",
              "      <td>2.2</td>\n",
              "      <td>0.0</td>\n",
              "      <td>0.0</td>\n",
              "    </tr>\n",
              "    <tr>\n",
              "      <th>8</th>\n",
              "      <td>8</td>\n",
              "      <td>6</td>\n",
              "      <td>9</td>\n",
              "      <td>tue</td>\n",
              "      <td>91.0</td>\n",
              "      <td>129.5</td>\n",
              "      <td>692.6</td>\n",
              "      <td>7.0</td>\n",
              "      <td>13.1</td>\n",
              "      <td>63</td>\n",
              "      <td>5.4</td>\n",
              "      <td>0.0</td>\n",
              "      <td>0.0</td>\n",
              "    </tr>\n",
              "    <tr>\n",
              "      <th>9</th>\n",
              "      <td>7</td>\n",
              "      <td>5</td>\n",
              "      <td>9</td>\n",
              "      <td>sat</td>\n",
              "      <td>92.5</td>\n",
              "      <td>88.0</td>\n",
              "      <td>698.6</td>\n",
              "      <td>7.1</td>\n",
              "      <td>22.8</td>\n",
              "      <td>40</td>\n",
              "      <td>4.0</td>\n",
              "      <td>0.0</td>\n",
              "      <td>0.0</td>\n",
              "    </tr>\n",
              "  </tbody>\n",
              "</table>\n",
              "</div>"
            ],
            "text/plain": [
              "   X  Y  month  day  FFMC    DMC     DC   ISI  temp  RH  wind  rain  area\n",
              "0  7  5      3  fri  86.2   26.2   94.3   5.1   8.2  51   6.7   0.0   0.0\n",
              "1  7  4     10  tue  90.6   35.4  669.1   6.7  18.0  33   0.9   0.0   0.0\n",
              "2  7  4     10  sat  90.6   43.7  686.9   6.7  14.6  33   1.3   0.0   0.0\n",
              "3  8  6      3  fri  91.7   33.3   77.5   9.0   8.3  97   4.0   0.2   0.0\n",
              "4  8  6      3  sun  89.3   51.3  102.2   9.6  11.4  99   1.8   0.0   0.0\n",
              "5  8  6      8  sun  92.3   85.3  488.0  14.7  22.2  29   5.4   0.0   0.0\n",
              "6  8  6      8  mon  92.3   88.9  495.6   8.5  24.1  27   3.1   0.0   0.0\n",
              "7  8  6      8  mon  91.5  145.4  608.2  10.7   8.0  86   2.2   0.0   0.0\n",
              "8  8  6      9  tue  91.0  129.5  692.6   7.0  13.1  63   5.4   0.0   0.0\n",
              "9  7  5      9  sat  92.5   88.0  698.6   7.1  22.8  40   4.0   0.0   0.0"
            ]
          },
          "metadata": {
            "tags": []
          },
          "execution_count": 55
        }
      ]
    },
    {
      "metadata": {
        "id": "3leanZyt_m_p",
        "colab_type": "code",
        "outputId": "3febce3d-e626-450a-8d3f-60a4a8a10362",
        "colab": {
          "base_uri": "https://localhost:8080/",
          "height": 238
        }
      },
      "cell_type": "code",
      "source": [
        "#verificando a alteração dos meses\n",
        "data['month'].value_counts()"
      ],
      "execution_count": 56,
      "outputs": [
        {
          "output_type": "execute_result",
          "data": {
            "text/plain": [
              "8     184\n",
              "9     172\n",
              "3      54\n",
              "7      32\n",
              "2      20\n",
              "6      17\n",
              "10     15\n",
              "12      9\n",
              "4       9\n",
              "5       2\n",
              "1       2\n",
              "11      1\n",
              "Name: month, dtype: int64"
            ]
          },
          "metadata": {
            "tags": []
          },
          "execution_count": 56
        }
      ]
    },
    {
      "metadata": {
        "id": "6gV9dess_m_u",
        "colab_type": "code",
        "outputId": "f9446e68-db7e-4bb8-8610-914287321abd",
        "colab": {
          "base_uri": "https://localhost:8080/",
          "height": 153
        }
      },
      "cell_type": "code",
      "source": [
        "data['day'].value_counts()"
      ],
      "execution_count": 57,
      "outputs": [
        {
          "output_type": "execute_result",
          "data": {
            "text/plain": [
              "sun    95\n",
              "fri    85\n",
              "sat    84\n",
              "mon    74\n",
              "tue    64\n",
              "thu    61\n",
              "wed    54\n",
              "Name: day, dtype: int64"
            ]
          },
          "metadata": {
            "tags": []
          },
          "execution_count": 57
        }
      ]
    },
    {
      "metadata": {
        "id": "_twIB5dS_m_1",
        "colab_type": "code",
        "outputId": "13394a9b-ad41-4115-cf22-225441a0c9ed",
        "colab": {
          "base_uri": "https://localhost:8080/",
          "height": 359
        }
      },
      "cell_type": "code",
      "source": [
        "# Convertendo dias alfanuméricos em numéricos\n",
        "# criando um dicionário dic  \n",
        "dia = {'sun': 1, 'mon': 2, 'tue': 3, 'thu': 4, 'wed': 5, 'fri': 6, 'sat': 7} \n",
        "#print(data.month)\n",
        "data.day = [dia[item] for item in data.day] \n",
        "data.head(10)"
      ],
      "execution_count": 58,
      "outputs": [
        {
          "output_type": "execute_result",
          "data": {
            "text/html": [
              "<div>\n",
              "<style scoped>\n",
              "    .dataframe tbody tr th:only-of-type {\n",
              "        vertical-align: middle;\n",
              "    }\n",
              "\n",
              "    .dataframe tbody tr th {\n",
              "        vertical-align: top;\n",
              "    }\n",
              "\n",
              "    .dataframe thead th {\n",
              "        text-align: right;\n",
              "    }\n",
              "</style>\n",
              "<table border=\"1\" class=\"dataframe\">\n",
              "  <thead>\n",
              "    <tr style=\"text-align: right;\">\n",
              "      <th></th>\n",
              "      <th>X</th>\n",
              "      <th>Y</th>\n",
              "      <th>month</th>\n",
              "      <th>day</th>\n",
              "      <th>FFMC</th>\n",
              "      <th>DMC</th>\n",
              "      <th>DC</th>\n",
              "      <th>ISI</th>\n",
              "      <th>temp</th>\n",
              "      <th>RH</th>\n",
              "      <th>wind</th>\n",
              "      <th>rain</th>\n",
              "      <th>area</th>\n",
              "    </tr>\n",
              "  </thead>\n",
              "  <tbody>\n",
              "    <tr>\n",
              "      <th>0</th>\n",
              "      <td>7</td>\n",
              "      <td>5</td>\n",
              "      <td>3</td>\n",
              "      <td>6</td>\n",
              "      <td>86.2</td>\n",
              "      <td>26.2</td>\n",
              "      <td>94.3</td>\n",
              "      <td>5.1</td>\n",
              "      <td>8.2</td>\n",
              "      <td>51</td>\n",
              "      <td>6.7</td>\n",
              "      <td>0.0</td>\n",
              "      <td>0.0</td>\n",
              "    </tr>\n",
              "    <tr>\n",
              "      <th>1</th>\n",
              "      <td>7</td>\n",
              "      <td>4</td>\n",
              "      <td>10</td>\n",
              "      <td>3</td>\n",
              "      <td>90.6</td>\n",
              "      <td>35.4</td>\n",
              "      <td>669.1</td>\n",
              "      <td>6.7</td>\n",
              "      <td>18.0</td>\n",
              "      <td>33</td>\n",
              "      <td>0.9</td>\n",
              "      <td>0.0</td>\n",
              "      <td>0.0</td>\n",
              "    </tr>\n",
              "    <tr>\n",
              "      <th>2</th>\n",
              "      <td>7</td>\n",
              "      <td>4</td>\n",
              "      <td>10</td>\n",
              "      <td>7</td>\n",
              "      <td>90.6</td>\n",
              "      <td>43.7</td>\n",
              "      <td>686.9</td>\n",
              "      <td>6.7</td>\n",
              "      <td>14.6</td>\n",
              "      <td>33</td>\n",
              "      <td>1.3</td>\n",
              "      <td>0.0</td>\n",
              "      <td>0.0</td>\n",
              "    </tr>\n",
              "    <tr>\n",
              "      <th>3</th>\n",
              "      <td>8</td>\n",
              "      <td>6</td>\n",
              "      <td>3</td>\n",
              "      <td>6</td>\n",
              "      <td>91.7</td>\n",
              "      <td>33.3</td>\n",
              "      <td>77.5</td>\n",
              "      <td>9.0</td>\n",
              "      <td>8.3</td>\n",
              "      <td>97</td>\n",
              "      <td>4.0</td>\n",
              "      <td>0.2</td>\n",
              "      <td>0.0</td>\n",
              "    </tr>\n",
              "    <tr>\n",
              "      <th>4</th>\n",
              "      <td>8</td>\n",
              "      <td>6</td>\n",
              "      <td>3</td>\n",
              "      <td>1</td>\n",
              "      <td>89.3</td>\n",
              "      <td>51.3</td>\n",
              "      <td>102.2</td>\n",
              "      <td>9.6</td>\n",
              "      <td>11.4</td>\n",
              "      <td>99</td>\n",
              "      <td>1.8</td>\n",
              "      <td>0.0</td>\n",
              "      <td>0.0</td>\n",
              "    </tr>\n",
              "    <tr>\n",
              "      <th>5</th>\n",
              "      <td>8</td>\n",
              "      <td>6</td>\n",
              "      <td>8</td>\n",
              "      <td>1</td>\n",
              "      <td>92.3</td>\n",
              "      <td>85.3</td>\n",
              "      <td>488.0</td>\n",
              "      <td>14.7</td>\n",
              "      <td>22.2</td>\n",
              "      <td>29</td>\n",
              "      <td>5.4</td>\n",
              "      <td>0.0</td>\n",
              "      <td>0.0</td>\n",
              "    </tr>\n",
              "    <tr>\n",
              "      <th>6</th>\n",
              "      <td>8</td>\n",
              "      <td>6</td>\n",
              "      <td>8</td>\n",
              "      <td>2</td>\n",
              "      <td>92.3</td>\n",
              "      <td>88.9</td>\n",
              "      <td>495.6</td>\n",
              "      <td>8.5</td>\n",
              "      <td>24.1</td>\n",
              "      <td>27</td>\n",
              "      <td>3.1</td>\n",
              "      <td>0.0</td>\n",
              "      <td>0.0</td>\n",
              "    </tr>\n",
              "    <tr>\n",
              "      <th>7</th>\n",
              "      <td>8</td>\n",
              "      <td>6</td>\n",
              "      <td>8</td>\n",
              "      <td>2</td>\n",
              "      <td>91.5</td>\n",
              "      <td>145.4</td>\n",
              "      <td>608.2</td>\n",
              "      <td>10.7</td>\n",
              "      <td>8.0</td>\n",
              "      <td>86</td>\n",
              "      <td>2.2</td>\n",
              "      <td>0.0</td>\n",
              "      <td>0.0</td>\n",
              "    </tr>\n",
              "    <tr>\n",
              "      <th>8</th>\n",
              "      <td>8</td>\n",
              "      <td>6</td>\n",
              "      <td>9</td>\n",
              "      <td>3</td>\n",
              "      <td>91.0</td>\n",
              "      <td>129.5</td>\n",
              "      <td>692.6</td>\n",
              "      <td>7.0</td>\n",
              "      <td>13.1</td>\n",
              "      <td>63</td>\n",
              "      <td>5.4</td>\n",
              "      <td>0.0</td>\n",
              "      <td>0.0</td>\n",
              "    </tr>\n",
              "    <tr>\n",
              "      <th>9</th>\n",
              "      <td>7</td>\n",
              "      <td>5</td>\n",
              "      <td>9</td>\n",
              "      <td>7</td>\n",
              "      <td>92.5</td>\n",
              "      <td>88.0</td>\n",
              "      <td>698.6</td>\n",
              "      <td>7.1</td>\n",
              "      <td>22.8</td>\n",
              "      <td>40</td>\n",
              "      <td>4.0</td>\n",
              "      <td>0.0</td>\n",
              "      <td>0.0</td>\n",
              "    </tr>\n",
              "  </tbody>\n",
              "</table>\n",
              "</div>"
            ],
            "text/plain": [
              "   X  Y  month  day  FFMC    DMC     DC   ISI  temp  RH  wind  rain  area\n",
              "0  7  5      3    6  86.2   26.2   94.3   5.1   8.2  51   6.7   0.0   0.0\n",
              "1  7  4     10    3  90.6   35.4  669.1   6.7  18.0  33   0.9   0.0   0.0\n",
              "2  7  4     10    7  90.6   43.7  686.9   6.7  14.6  33   1.3   0.0   0.0\n",
              "3  8  6      3    6  91.7   33.3   77.5   9.0   8.3  97   4.0   0.2   0.0\n",
              "4  8  6      3    1  89.3   51.3  102.2   9.6  11.4  99   1.8   0.0   0.0\n",
              "5  8  6      8    1  92.3   85.3  488.0  14.7  22.2  29   5.4   0.0   0.0\n",
              "6  8  6      8    2  92.3   88.9  495.6   8.5  24.1  27   3.1   0.0   0.0\n",
              "7  8  6      8    2  91.5  145.4  608.2  10.7   8.0  86   2.2   0.0   0.0\n",
              "8  8  6      9    3  91.0  129.5  692.6   7.0  13.1  63   5.4   0.0   0.0\n",
              "9  7  5      9    7  92.5   88.0  698.6   7.1  22.8  40   4.0   0.0   0.0"
            ]
          },
          "metadata": {
            "tags": []
          },
          "execution_count": 58
        }
      ]
    },
    {
      "metadata": {
        "id": "agLIwsAB_m_8",
        "colab_type": "code",
        "outputId": "457a8ff9-0e09-48fb-a0c5-23932d061365",
        "colab": {
          "base_uri": "https://localhost:8080/",
          "height": 153
        }
      },
      "cell_type": "code",
      "source": [
        "#verificando os dias convertidos\n",
        "data['day'].value_counts()"
      ],
      "execution_count": 59,
      "outputs": [
        {
          "output_type": "execute_result",
          "data": {
            "text/plain": [
              "1    95\n",
              "6    85\n",
              "7    84\n",
              "2    74\n",
              "3    64\n",
              "4    61\n",
              "5    54\n",
              "Name: day, dtype: int64"
            ]
          },
          "metadata": {
            "tags": []
          },
          "execution_count": 59
        }
      ]
    },
    {
      "metadata": {
        "id": "6m5a7_sQ_nAD",
        "colab_type": "code",
        "colab": {}
      },
      "cell_type": "code",
      "source": [
        "#data['area'].value_counts()"
      ],
      "execution_count": 0,
      "outputs": []
    },
    {
      "metadata": {
        "id": "_Kr6ZLMg_nAK",
        "colab_type": "code",
        "outputId": "25e4378b-f71d-45cd-94ee-544281b85647",
        "colab": {
          "base_uri": "https://localhost:8080/",
          "height": 323
        }
      },
      "cell_type": "code",
      "source": [
        "data.info()"
      ],
      "execution_count": 61,
      "outputs": [
        {
          "output_type": "stream",
          "text": [
            "<class 'pandas.core.frame.DataFrame'>\n",
            "RangeIndex: 517 entries, 0 to 516\n",
            "Data columns (total 13 columns):\n",
            "X        517 non-null int64\n",
            "Y        517 non-null int64\n",
            "month    517 non-null int64\n",
            "day      517 non-null int64\n",
            "FFMC     517 non-null float64\n",
            "DMC      517 non-null float64\n",
            "DC       517 non-null float64\n",
            "ISI      517 non-null float64\n",
            "temp     517 non-null float64\n",
            "RH       517 non-null int64\n",
            "wind     517 non-null float64\n",
            "rain     517 non-null float64\n",
            "area     517 non-null float64\n",
            "dtypes: float64(8), int64(5)\n",
            "memory usage: 52.6 KB\n"
          ],
          "name": "stdout"
        }
      ]
    },
    {
      "metadata": {
        "id": "Tq5mtJ2y_nAQ",
        "colab_type": "code",
        "colab": {}
      },
      "cell_type": "code",
      "source": [
        "#Transformação da área incendiada para 0 - sem incêndio, 1 - com incêndio\n",
        "data['incendio'] = data['area'].apply(lambda x: 1 if x > 0.00 else 0.00)\n",
        "\n",
        "#df['equal_or_lower_than_4?'] = df['set_of_numbers'].apply(lambda x: 'True' if x <= 4 else 'False')"
      ],
      "execution_count": 0,
      "outputs": []
    },
    {
      "metadata": {
        "id": "_Aug9rEV_nAU",
        "colab_type": "code",
        "outputId": "9e27c854-c5b3-4d92-a1fb-a603d968dea1",
        "colab": {
          "base_uri": "https://localhost:8080/",
          "height": 68
        }
      },
      "cell_type": "code",
      "source": [
        "data['incendio'].value_counts()"
      ],
      "execution_count": 63,
      "outputs": [
        {
          "output_type": "execute_result",
          "data": {
            "text/plain": [
              "1.0    270\n",
              "0.0    247\n",
              "Name: incendio, dtype: int64"
            ]
          },
          "metadata": {
            "tags": []
          },
          "execution_count": 63
        }
      ]
    },
    {
      "metadata": {
        "id": "iLCZsrAA_nAb",
        "colab_type": "code",
        "outputId": "3e7d4c9b-c881-436f-a657-f847603ae63b",
        "colab": {
          "base_uri": "https://localhost:8080/",
          "height": 359
        }
      },
      "cell_type": "code",
      "source": [
        "# dataset final com dados convertidos\n",
        "data.head(10)"
      ],
      "execution_count": 64,
      "outputs": [
        {
          "output_type": "execute_result",
          "data": {
            "text/html": [
              "<div>\n",
              "<style scoped>\n",
              "    .dataframe tbody tr th:only-of-type {\n",
              "        vertical-align: middle;\n",
              "    }\n",
              "\n",
              "    .dataframe tbody tr th {\n",
              "        vertical-align: top;\n",
              "    }\n",
              "\n",
              "    .dataframe thead th {\n",
              "        text-align: right;\n",
              "    }\n",
              "</style>\n",
              "<table border=\"1\" class=\"dataframe\">\n",
              "  <thead>\n",
              "    <tr style=\"text-align: right;\">\n",
              "      <th></th>\n",
              "      <th>X</th>\n",
              "      <th>Y</th>\n",
              "      <th>month</th>\n",
              "      <th>day</th>\n",
              "      <th>FFMC</th>\n",
              "      <th>DMC</th>\n",
              "      <th>DC</th>\n",
              "      <th>ISI</th>\n",
              "      <th>temp</th>\n",
              "      <th>RH</th>\n",
              "      <th>wind</th>\n",
              "      <th>rain</th>\n",
              "      <th>area</th>\n",
              "      <th>incendio</th>\n",
              "    </tr>\n",
              "  </thead>\n",
              "  <tbody>\n",
              "    <tr>\n",
              "      <th>0</th>\n",
              "      <td>7</td>\n",
              "      <td>5</td>\n",
              "      <td>3</td>\n",
              "      <td>6</td>\n",
              "      <td>86.2</td>\n",
              "      <td>26.2</td>\n",
              "      <td>94.3</td>\n",
              "      <td>5.1</td>\n",
              "      <td>8.2</td>\n",
              "      <td>51</td>\n",
              "      <td>6.7</td>\n",
              "      <td>0.0</td>\n",
              "      <td>0.0</td>\n",
              "      <td>0.0</td>\n",
              "    </tr>\n",
              "    <tr>\n",
              "      <th>1</th>\n",
              "      <td>7</td>\n",
              "      <td>4</td>\n",
              "      <td>10</td>\n",
              "      <td>3</td>\n",
              "      <td>90.6</td>\n",
              "      <td>35.4</td>\n",
              "      <td>669.1</td>\n",
              "      <td>6.7</td>\n",
              "      <td>18.0</td>\n",
              "      <td>33</td>\n",
              "      <td>0.9</td>\n",
              "      <td>0.0</td>\n",
              "      <td>0.0</td>\n",
              "      <td>0.0</td>\n",
              "    </tr>\n",
              "    <tr>\n",
              "      <th>2</th>\n",
              "      <td>7</td>\n",
              "      <td>4</td>\n",
              "      <td>10</td>\n",
              "      <td>7</td>\n",
              "      <td>90.6</td>\n",
              "      <td>43.7</td>\n",
              "      <td>686.9</td>\n",
              "      <td>6.7</td>\n",
              "      <td>14.6</td>\n",
              "      <td>33</td>\n",
              "      <td>1.3</td>\n",
              "      <td>0.0</td>\n",
              "      <td>0.0</td>\n",
              "      <td>0.0</td>\n",
              "    </tr>\n",
              "    <tr>\n",
              "      <th>3</th>\n",
              "      <td>8</td>\n",
              "      <td>6</td>\n",
              "      <td>3</td>\n",
              "      <td>6</td>\n",
              "      <td>91.7</td>\n",
              "      <td>33.3</td>\n",
              "      <td>77.5</td>\n",
              "      <td>9.0</td>\n",
              "      <td>8.3</td>\n",
              "      <td>97</td>\n",
              "      <td>4.0</td>\n",
              "      <td>0.2</td>\n",
              "      <td>0.0</td>\n",
              "      <td>0.0</td>\n",
              "    </tr>\n",
              "    <tr>\n",
              "      <th>4</th>\n",
              "      <td>8</td>\n",
              "      <td>6</td>\n",
              "      <td>3</td>\n",
              "      <td>1</td>\n",
              "      <td>89.3</td>\n",
              "      <td>51.3</td>\n",
              "      <td>102.2</td>\n",
              "      <td>9.6</td>\n",
              "      <td>11.4</td>\n",
              "      <td>99</td>\n",
              "      <td>1.8</td>\n",
              "      <td>0.0</td>\n",
              "      <td>0.0</td>\n",
              "      <td>0.0</td>\n",
              "    </tr>\n",
              "    <tr>\n",
              "      <th>5</th>\n",
              "      <td>8</td>\n",
              "      <td>6</td>\n",
              "      <td>8</td>\n",
              "      <td>1</td>\n",
              "      <td>92.3</td>\n",
              "      <td>85.3</td>\n",
              "      <td>488.0</td>\n",
              "      <td>14.7</td>\n",
              "      <td>22.2</td>\n",
              "      <td>29</td>\n",
              "      <td>5.4</td>\n",
              "      <td>0.0</td>\n",
              "      <td>0.0</td>\n",
              "      <td>0.0</td>\n",
              "    </tr>\n",
              "    <tr>\n",
              "      <th>6</th>\n",
              "      <td>8</td>\n",
              "      <td>6</td>\n",
              "      <td>8</td>\n",
              "      <td>2</td>\n",
              "      <td>92.3</td>\n",
              "      <td>88.9</td>\n",
              "      <td>495.6</td>\n",
              "      <td>8.5</td>\n",
              "      <td>24.1</td>\n",
              "      <td>27</td>\n",
              "      <td>3.1</td>\n",
              "      <td>0.0</td>\n",
              "      <td>0.0</td>\n",
              "      <td>0.0</td>\n",
              "    </tr>\n",
              "    <tr>\n",
              "      <th>7</th>\n",
              "      <td>8</td>\n",
              "      <td>6</td>\n",
              "      <td>8</td>\n",
              "      <td>2</td>\n",
              "      <td>91.5</td>\n",
              "      <td>145.4</td>\n",
              "      <td>608.2</td>\n",
              "      <td>10.7</td>\n",
              "      <td>8.0</td>\n",
              "      <td>86</td>\n",
              "      <td>2.2</td>\n",
              "      <td>0.0</td>\n",
              "      <td>0.0</td>\n",
              "      <td>0.0</td>\n",
              "    </tr>\n",
              "    <tr>\n",
              "      <th>8</th>\n",
              "      <td>8</td>\n",
              "      <td>6</td>\n",
              "      <td>9</td>\n",
              "      <td>3</td>\n",
              "      <td>91.0</td>\n",
              "      <td>129.5</td>\n",
              "      <td>692.6</td>\n",
              "      <td>7.0</td>\n",
              "      <td>13.1</td>\n",
              "      <td>63</td>\n",
              "      <td>5.4</td>\n",
              "      <td>0.0</td>\n",
              "      <td>0.0</td>\n",
              "      <td>0.0</td>\n",
              "    </tr>\n",
              "    <tr>\n",
              "      <th>9</th>\n",
              "      <td>7</td>\n",
              "      <td>5</td>\n",
              "      <td>9</td>\n",
              "      <td>7</td>\n",
              "      <td>92.5</td>\n",
              "      <td>88.0</td>\n",
              "      <td>698.6</td>\n",
              "      <td>7.1</td>\n",
              "      <td>22.8</td>\n",
              "      <td>40</td>\n",
              "      <td>4.0</td>\n",
              "      <td>0.0</td>\n",
              "      <td>0.0</td>\n",
              "      <td>0.0</td>\n",
              "    </tr>\n",
              "  </tbody>\n",
              "</table>\n",
              "</div>"
            ],
            "text/plain": [
              "   X  Y  month  day  FFMC    DMC     DC   ISI  temp  RH  wind  rain  area  \\\n",
              "0  7  5      3    6  86.2   26.2   94.3   5.1   8.2  51   6.7   0.0   0.0   \n",
              "1  7  4     10    3  90.6   35.4  669.1   6.7  18.0  33   0.9   0.0   0.0   \n",
              "2  7  4     10    7  90.6   43.7  686.9   6.7  14.6  33   1.3   0.0   0.0   \n",
              "3  8  6      3    6  91.7   33.3   77.5   9.0   8.3  97   4.0   0.2   0.0   \n",
              "4  8  6      3    1  89.3   51.3  102.2   9.6  11.4  99   1.8   0.0   0.0   \n",
              "5  8  6      8    1  92.3   85.3  488.0  14.7  22.2  29   5.4   0.0   0.0   \n",
              "6  8  6      8    2  92.3   88.9  495.6   8.5  24.1  27   3.1   0.0   0.0   \n",
              "7  8  6      8    2  91.5  145.4  608.2  10.7   8.0  86   2.2   0.0   0.0   \n",
              "8  8  6      9    3  91.0  129.5  692.6   7.0  13.1  63   5.4   0.0   0.0   \n",
              "9  7  5      9    7  92.5   88.0  698.6   7.1  22.8  40   4.0   0.0   0.0   \n",
              "\n",
              "   incendio  \n",
              "0       0.0  \n",
              "1       0.0  \n",
              "2       0.0  \n",
              "3       0.0  \n",
              "4       0.0  \n",
              "5       0.0  \n",
              "6       0.0  \n",
              "7       0.0  \n",
              "8       0.0  \n",
              "9       0.0  "
            ]
          },
          "metadata": {
            "tags": []
          },
          "execution_count": 64
        }
      ]
    },
    {
      "metadata": {
        "id": "pbMNut-y_nAh",
        "colab_type": "text"
      },
      "cell_type": "markdown",
      "source": [
        "A partir deste ponto será utilizado como base o arquivo fornecido pela Professora Letícia (pca_mnist_mlp_svm_NEW.py) com as necessárias alterações. \n"
      ]
    },
    {
      "metadata": {
        "id": "CS0pwsS5_nAi",
        "colab_type": "code",
        "colab": {}
      },
      "cell_type": "code",
      "source": [
        "# PCA \n",
        "#normalização\n",
        "#transforma uma lista em um vetor\n",
        "X_ = np.array(data)\n",
        "m = np.mean(X_)\n",
        "s = np.std(X_,ddof=1)\n",
        "X = (X_ - m)/s"
      ],
      "execution_count": 0,
      "outputs": []
    },
    {
      "metadata": {
        "id": "iD-aCr1b_nAo",
        "colab_type": "code",
        "outputId": "85e04589-a27b-40ac-e906-3809c27933ac",
        "colab": {
          "base_uri": "https://localhost:8080/",
          "height": 136
        }
      },
      "cell_type": "code",
      "source": [
        "print(X_)"
      ],
      "execution_count": 66,
      "outputs": [
        {
          "output_type": "stream",
          "text": [
            "[[ 7.    5.    3.   ...  0.    0.    0.  ]\n",
            " [ 7.    4.   10.   ...  0.    0.    0.  ]\n",
            " [ 7.    4.   10.   ...  0.    0.    0.  ]\n",
            " ...\n",
            " [ 7.    4.    8.   ...  0.   11.16  1.  ]\n",
            " [ 1.    4.    8.   ...  0.    0.    0.  ]\n",
            " [ 6.    3.   11.   ...  0.    0.    0.  ]]\n"
          ],
          "name": "stdout"
        }
      ]
    },
    {
      "metadata": {
        "id": "lryvISJD_nAv",
        "colab_type": "code",
        "outputId": "f7361ae2-a444-4ef9-93f1-bc1bf12aede0",
        "colab": {
          "base_uri": "https://localhost:8080/",
          "height": 51
        }
      },
      "cell_type": "code",
      "source": [
        "#Calcular PCA de todo o conjunto de entrada\n",
        "pca = PCA(n_components=14)\n",
        "X_projected = pca.fit_transform(X)\n",
        "\n",
        "print('Shape dados brutos: ' + str(X.shape))\n",
        "print('Shape dados PCA: ' + str(X_projected.shape))"
      ],
      "execution_count": 67,
      "outputs": [
        {
          "output_type": "stream",
          "text": [
            "Shape dados brutos: (517, 14)\n",
            "Shape dados PCA: (517, 14)\n"
          ],
          "name": "stdout"
        }
      ]
    },
    {
      "metadata": {
        "id": "YQ7TpfNJ_nA3",
        "colab_type": "code",
        "outputId": "2e99c91e-48a5-4e7a-a433-7b4f60350277",
        "colab": {
          "base_uri": "https://localhost:8080/",
          "height": 51
        }
      },
      "cell_type": "code",
      "source": [
        "print(pca)"
      ],
      "execution_count": 68,
      "outputs": [
        {
          "output_type": "stream",
          "text": [
            "PCA(copy=True, iterated_power='auto', n_components=14, random_state=None,\n",
            "  svd_solver='auto', tol=0.0, whiten=False)\n"
          ],
          "name": "stdout"
        }
      ]
    },
    {
      "metadata": {
        "id": "FlVhfdqn_nA7",
        "colab_type": "code",
        "outputId": "9c6caa7c-58ae-401b-b3d8-097c6bbb57a8",
        "colab": {
          "base_uri": "https://localhost:8080/",
          "height": 238
        }
      },
      "cell_type": "code",
      "source": [
        "print(X_projected)"
      ],
      "execution_count": 69,
      "outputs": [
        {
          "output_type": "stream",
          "text": [
            "[[ 2.96029564e+00 -4.31920471e-02 -7.48558410e-03 ... -4.85848322e-03\n",
            "   2.73670357e-03  1.77159172e-05]\n",
            " [-6.76137783e-01 -1.38377392e-01 -6.09999675e-01 ...  8.30178757e-03\n",
            "   3.45131902e-03  4.12987996e-04]\n",
            " [-7.97662637e-01 -1.37701849e-01 -5.78585303e-01 ...  7.48057002e-03\n",
            "   3.34104049e-03  6.99425519e-04]\n",
            " ...\n",
            " [-6.78550801e-01 -6.05937776e-02 -4.65507054e-01 ... -6.27622158e-05\n",
            "  -2.46785851e-03 -1.27419740e-03]\n",
            " [-4.61026990e-01 -7.65501797e-02  1.51428311e-01 ... -2.31138633e-03\n",
            "   3.32613301e-03 -3.26290952e-04]\n",
            " [ 2.90824137e+00 -5.41939717e-02 -1.76318096e-01 ...  3.54006528e-02\n",
            "   4.33262926e-03  6.71990438e-04]]\n"
          ],
          "name": "stdout"
        }
      ]
    },
    {
      "metadata": {
        "id": "xM5riStX_nBA",
        "colab_type": "code",
        "outputId": "0e97e8ea-b975-4a7a-a7b5-35ba61974173",
        "colab": {
          "base_uri": "https://localhost:8080/",
          "height": 361
        }
      },
      "cell_type": "code",
      "source": [
        "#Verificando o número de componentes\n",
        "plt.plot(np.cumsum(pca.explained_variance_ratio_))\n",
        "plt.xlabel('número de componentes')\n",
        "plt.ylabel('variância cumulativa')\n",
        "plt.show()"
      ],
      "execution_count": 70,
      "outputs": [
        {
          "output_type": "display_data",
          "data": {
            "image/png": "[encoded data removed]",
            "text/plain": [
              "<Figure size 576x396 with 1 Axes>"
            ]
          },
          "metadata": {
            "tags": []
          }
        }
      ]
    },
    {
      "metadata": {
        "id": "60zefKjm_nBF",
        "colab_type": "code",
        "colab": {}
      },
      "cell_type": "code",
      "source": [
        "# Set a KMeans clustering\n",
        "kmeans = KMeans(n_clusters=10)\n",
        "# Compute cluster centers and predict cluster indices\n",
        "y = kmeans.fit_predict(X_projected)"
      ],
      "execution_count": 0,
      "outputs": []
    },
    {
      "metadata": {
        "id": "DrvNTi26_nBI",
        "colab_type": "code",
        "colab": {}
      },
      "cell_type": "code",
      "source": [
        "#print(y)"
      ],
      "execution_count": 0,
      "outputs": []
    },
    {
      "metadata": {
        "id": "Wtx3KFzC_nBL",
        "colab_type": "code",
        "outputId": "dbdc4b31-5b66-4dee-cbe5-a52b739db11a",
        "colab": {
          "base_uri": "https://localhost:8080/",
          "height": 365
        }
      },
      "cell_type": "code",
      "source": [
        "# plot em 2D com 2 componentes\n",
        "plt.scatter(X_projected[:, 0], X_projected[:, 1],\n",
        "            c=y, edgecolor='none', alpha=0.5,\n",
        "            cmap=plt.cm.get_cmap('Accent', 10))\n",
        "plt.xlabel('component 1')\n",
        "plt.ylabel('component 2')\n",
        "plt.colorbar()\n",
        "plt.show()"
      ],
      "execution_count": 73,
      "outputs": [
        {
          "output_type": "display_data",
          "data": {
            "image/png": "[encoded data removed]",
            "text/plain": [
              "<Figure size 576x396 with 2 Axes>"
            ]
          },
          "metadata": {
            "tags": []
          }
        }
      ]
    },
    {
      "metadata": {
        "id": "r_kr3NIe_nBP",
        "colab_type": "code",
        "colab": {}
      },
      "cell_type": "code",
      "source": [
        "# Separa conjunto de train e val dos dados brutos\n",
        "X_train, X_val, y_train, y_val = train_test_split(X, y, test_size=0.3,\n",
        "                                                    stratify=y,\n",
        "                                                    random_state=42)"
      ],
      "execution_count": 0,
      "outputs": []
    },
    {
      "metadata": {
        "id": "CZN10TBB_nBS",
        "colab_type": "code",
        "colab": {}
      },
      "cell_type": "code",
      "source": [
        "# Separa conjunto de train e val da PCA\n",
        "projected_train, projected_val, y_train, y_val = train_test_split(X_projected, y, test_size=0.3,\n",
        "                                                    stratify=y,\n",
        "                                                    random_state=42)"
      ],
      "execution_count": 0,
      "outputs": []
    },
    {
      "metadata": {
        "id": "wtYyyV-I_nBY",
        "colab_type": "code",
        "colab": {}
      },
      "cell_type": "code",
      "source": [
        "# Definir arquitetura MLP\n",
        "mlp = MLPClassifier(hidden_layer_sizes=(200,200), activation='relu', max_iter=1000, alpha=1e-4,\n",
        "                     solver='lbfgs', verbose=10, tol=1e-3, random_state=1, learning_rate_init=.01)\n",
        "\n",
        "#mlp = MLPClassifier(hidden_layer_sizes=(200,), activation='relu', max_iter=1000, alpha=1e-4,\n",
        "#                     solver='sgd', verbose=10, tol=1e-3, random_state=1, learning_rate_init=.01)"
      ],
      "execution_count": 0,
      "outputs": []
    },
    {
      "metadata": {
        "id": "yeFyiosA_nBc",
        "colab_type": "code",
        "outputId": "50003676-c67f-4c8a-a4cf-6ac5ce4c71de",
        "colab": {
          "base_uri": "https://localhost:8080/",
          "height": 51
        }
      },
      "cell_type": "code",
      "source": [
        "# Aqui fazer um treinamento e uma validacao da MLP com dados brutos\n",
        "start = process_time()\n",
        "mlp.fit(X_train, y_train)\n",
        "end = process_time()\n",
        "time_mlp = end - start\n",
        "print('Tempo de treinamento_mlp_dados_brutos: ' + str(time_mlp))\n",
        "print('Erro no final do treinamento_mlp_dados_brutos: %f' % mlp.loss_)"
      ],
      "execution_count": 77,
      "outputs": [
        {
          "output_type": "stream",
          "text": [
            "Tempo de treinamento_mlp_dados_brutos: 9.776135265999999\n",
            "Erro no final do treinamento_mlp_dados_brutos: 0.000389\n"
          ],
          "name": "stdout"
        }
      ]
    },
    {
      "metadata": {
        "id": "pfueycLm_nBi",
        "colab_type": "code",
        "outputId": "299ed46b-8d09-405e-e036-59c6fbce993c",
        "colab": {
          "base_uri": "https://localhost:8080/",
          "height": 493
        }
      },
      "cell_type": "code",
      "source": [
        "# Métricas da validação MLP com dados brutos\n",
        "preds_val = mlp.predict(X_val)\n",
        "#print(preds_val)\n",
        "#print(y_val)\n",
        "\n",
        "correct_outputs_val = y_val\n",
        "n_acertos_val = 0\n",
        "for u in range(0, len(correct_outputs_val)):\n",
        "   if preds_val[u] == correct_outputs_val[u]:\n",
        "       n_acertos_val += 1\n",
        "print('Número de acertos_val_mlp com dados brutos: ' + str((n_acertos_val*100)/len(correct_outputs_val)))\n",
        "print(confusion_matrix(y_val,preds_val))\n",
        "print(classification_report(y_val,preds_val))"
      ],
      "execution_count": 78,
      "outputs": [
        {
          "output_type": "stream",
          "text": [
            "Número de acertos_val_mlp com dados brutos: 98.07692307692308\n",
            "[[16  0  1  0  0  0  0  0  0  0]\n",
            " [ 0 27  0  0  0  0  0  0  0  0]\n",
            " [ 0  0 20  0  0  0  0  0  0  2]\n",
            " [ 0  0  0  1  0  0  0  0  0  0]\n",
            " [ 0  0  0  0  9  0  0  0  0  0]\n",
            " [ 0  0  0  0  0 35  0  0  0  0]\n",
            " [ 0  0  0  0  0  0  7  0  0  0]\n",
            " [ 0  0  0  0  0  0  0 25  0  0]\n",
            " [ 0  0  0  0  0  0  0  0  3  0]\n",
            " [ 0  0  0  0  0  0  0  0  0 10]]\n",
            "              precision    recall  f1-score   support\n",
            "\n",
            "           0       1.00      0.94      0.97        17\n",
            "           1       1.00      1.00      1.00        27\n",
            "           2       0.95      0.91      0.93        22\n",
            "           3       1.00      1.00      1.00         1\n",
            "           4       1.00      1.00      1.00         9\n",
            "           5       1.00      1.00      1.00        35\n",
            "           6       1.00      1.00      1.00         7\n",
            "           7       1.00      1.00      1.00        25\n",
            "           8       1.00      1.00      1.00         3\n",
            "           9       0.83      1.00      0.91        10\n",
            "\n",
            "   micro avg       0.98      0.98      0.98       156\n",
            "   macro avg       0.98      0.99      0.98       156\n",
            "weighted avg       0.98      0.98      0.98       156\n",
            "\n"
          ],
          "name": "stdout"
        }
      ]
    },
    {
      "metadata": {
        "id": "pgWctKUg_nBo",
        "colab_type": "code",
        "outputId": "878fad99-fefb-4285-8e2c-fe34f702898f",
        "colab": {
          "base_uri": "https://localhost:8080/",
          "height": 51
        }
      },
      "cell_type": "code",
      "source": [
        "# Aqui fazer um treinamento e uma validacao da MLP com PCA\n",
        "start = process_time()\n",
        "mlp.fit(projected_train, y_train)\n",
        "end = process_time()\n",
        "time_mlp = end - start\n",
        "print('Tempo de treinamento_mlp_pca: ' + str(time_mlp))\n",
        "print(\"Erro no final do treinamento_mlp_pca: %f\" % mlp.loss_)\n"
      ],
      "execution_count": 79,
      "outputs": [
        {
          "output_type": "stream",
          "text": [
            "Tempo de treinamento_mlp_pca: 1.7713044889999985\n",
            "Erro no final do treinamento_mlp_pca: 0.000317\n"
          ],
          "name": "stdout"
        }
      ]
    },
    {
      "metadata": {
        "id": "8bBDewf-_nBv",
        "colab_type": "code",
        "outputId": "2b8e9eec-3bef-416e-ad71-5a96dc19ff34",
        "colab": {
          "base_uri": "https://localhost:8080/",
          "height": 493
        }
      },
      "cell_type": "code",
      "source": [
        "# Métricas da validação MLP com PCA\n",
        "preds_val = mlp.predict(projected_val)\n",
        "\n",
        "correct_outputs_val = y_val\n",
        "n_acertos_val = 0\n",
        "for u in range(0, len(correct_outputs_val)):\n",
        "   if preds_val[u] == correct_outputs_val[u]:\n",
        "       n_acertos_val += 1\n",
        "print('Número de acertos_val_mlp com PCA: ' + str((n_acertos_val*100)/len(correct_outputs_val)))\n",
        "print(confusion_matrix(y_val,preds_val))\n",
        "print(classification_report(y_val,preds_val))\n"
      ],
      "execution_count": 80,
      "outputs": [
        {
          "output_type": "stream",
          "text": [
            "Número de acertos_val_mlp com PCA: 98.71794871794872\n",
            "[[16  0  1  0  0  0  0  0  0  0]\n",
            " [ 0 27  0  0  0  0  0  0  0  0]\n",
            " [ 0  0 21  0  0  0  0  0  0  1]\n",
            " [ 0  0  0  1  0  0  0  0  0  0]\n",
            " [ 0  0  0  0  9  0  0  0  0  0]\n",
            " [ 0  0  0  0  0 35  0  0  0  0]\n",
            " [ 0  0  0  0  0  0  7  0  0  0]\n",
            " [ 0  0  0  0  0  0  0 25  0  0]\n",
            " [ 0  0  0  0  0  0  0  0  3  0]\n",
            " [ 0  0  0  0  0  0  0  0  0 10]]\n",
            "              precision    recall  f1-score   support\n",
            "\n",
            "           0       1.00      0.94      0.97        17\n",
            "           1       1.00      1.00      1.00        27\n",
            "           2       0.95      0.95      0.95        22\n",
            "           3       1.00      1.00      1.00         1\n",
            "           4       1.00      1.00      1.00         9\n",
            "           5       1.00      1.00      1.00        35\n",
            "           6       1.00      1.00      1.00         7\n",
            "           7       1.00      1.00      1.00        25\n",
            "           8       1.00      1.00      1.00         3\n",
            "           9       0.91      1.00      0.95        10\n",
            "\n",
            "   micro avg       0.99      0.99      0.99       156\n",
            "   macro avg       0.99      0.99      0.99       156\n",
            "weighted avg       0.99      0.99      0.99       156\n",
            "\n"
          ],
          "name": "stdout"
        }
      ]
    },
    {
      "metadata": {
        "id": "bpDCnX6K_nBz",
        "colab_type": "code",
        "colab": {}
      },
      "cell_type": "code",
      "source": [
        "## definir arquitetura da SVM\n",
        "svm = svm.SVC(kernel='rbf',C =1, gamma='auto')"
      ],
      "execution_count": 0,
      "outputs": []
    },
    {
      "metadata": {
        "id": "BOcGv0QI_nB2",
        "colab_type": "code",
        "outputId": "e6ba83f1-bcf7-4f81-eab5-62709f49b6ae",
        "colab": {
          "base_uri": "https://localhost:8080/",
          "height": 34
        }
      },
      "cell_type": "code",
      "source": [
        "# Aqui fazer um treinamento e uma validacao da SVM com dados brutos\n",
        "start = process_time()\n",
        "svm.fit(X_train, y_train)\n",
        "end = process_time()\n",
        "time_svm = end - start\n",
        "print('Tempo de treinamento_svm_dados_brutos: ' + str(time_svm))"
      ],
      "execution_count": 82,
      "outputs": [
        {
          "output_type": "stream",
          "text": [
            "Tempo de treinamento_svm_dados_brutos: 0.019506625999998306\n"
          ],
          "name": "stdout"
        }
      ]
    },
    {
      "metadata": {
        "id": "XlFc2pzG_nB8",
        "colab_type": "code",
        "outputId": "4d173326-3f30-4d54-cba7-c85692b525ce",
        "colab": {
          "base_uri": "https://localhost:8080/",
          "height": 204
        }
      },
      "cell_type": "code",
      "source": [
        "# Métricas da validação SVM com dados brutos\n",
        "preds_val_svm= svm.predict(X_val)\n",
        "\n",
        "correct_outputs_val_svm = y_val\n",
        "n_acertos_val_svm = 0\n",
        "for u in range(0, len(correct_outputs_val_svm)):\n",
        "   if preds_val_svm[u] == correct_outputs_val_svm[u]:\n",
        "            n_acertos_val_svm += 1\n",
        "print('Number of acertos_val_svm_dados brutos: ' + str((n_acertos_val_svm*100)/len(correct_outputs_val_svm)))\n",
        "print(confusion_matrix(y_val,preds_val_svm))"
      ],
      "execution_count": 83,
      "outputs": [
        {
          "output_type": "stream",
          "text": [
            "Number of acertos_val_svm_dados brutos: 85.8974358974359\n",
            "[[13  0  1  0  0  3  0  0  0  0]\n",
            " [ 0 27  0  0  0  0  0  0  0  0]\n",
            " [ 0  0 18  0  0  4  0  0  0  0]\n",
            " [ 0  0  0  1  0  0  0  0  0  0]\n",
            " [ 0  0  0  0  9  0  0  0  0  0]\n",
            " [ 0  0  0  0  0 35  0  0  0  0]\n",
            " [ 2  0  0  0  0  0  5  0  0  0]\n",
            " [ 0  0  0  0  0  8  0 17  0  0]\n",
            " [ 0  0  0  0  0  3  0  0  0  0]\n",
            " [ 0  0  1  0  0  0  0  0  0  9]]\n"
          ],
          "name": "stdout"
        }
      ]
    },
    {
      "metadata": {
        "id": "fylAfKKm_nCC",
        "colab_type": "code",
        "outputId": "486073e7-9342-4a04-ec09-0d06516dff85",
        "colab": {
          "base_uri": "https://localhost:8080/",
          "height": 34
        }
      },
      "cell_type": "code",
      "source": [
        "# Aqui fazer um treinamento e uma validacao da svm com PCA\n",
        "start = process_time()\n",
        "svm.fit(projected_train, y_train)\n",
        "end = process_time()\n",
        "time_svm = end - start\n",
        "print('Tempo de treinamento_svm_pca: ' + str(time_svm))"
      ],
      "execution_count": 84,
      "outputs": [
        {
          "output_type": "stream",
          "text": [
            "Tempo de treinamento_svm_pca: 0.011287196000001387\n"
          ],
          "name": "stdout"
        }
      ]
    },
    {
      "metadata": {
        "id": "ypHP25nw_nCL",
        "colab_type": "code",
        "outputId": "50a4345f-97bd-4516-c717-8e2f8570a3b7",
        "colab": {
          "base_uri": "https://localhost:8080/",
          "height": 204
        }
      },
      "cell_type": "code",
      "source": [
        "# Métricas da validação SVM com PCA\n",
        "preds_val_svm= svm.predict(projected_val)\n",
        "\n",
        "correct_outputs_val_svm = y_val\n",
        "n_acertos_val_svm = 0\n",
        "for u in range(0, len(correct_outputs_val_svm)):\n",
        "   if preds_val_svm[u] == correct_outputs_val_svm[u]:\n",
        "            n_acertos_val_svm += 1\n",
        "print('Número de acertos_val_svm PCA: ' + str((n_acertos_val_svm*100)/len(correct_outputs_val_svm)))\n",
        "print(confusion_matrix(y_val,preds_val_svm))\n"
      ],
      "execution_count": 85,
      "outputs": [
        {
          "output_type": "stream",
          "text": [
            "Número de acertos_val_svm PCA: 85.8974358974359\n",
            "[[13  0  1  0  0  3  0  0  0  0]\n",
            " [ 0 27  0  0  0  0  0  0  0  0]\n",
            " [ 0  0 18  0  0  4  0  0  0  0]\n",
            " [ 0  0  0  1  0  0  0  0  0  0]\n",
            " [ 0  0  0  0  9  0  0  0  0  0]\n",
            " [ 0  0  0  0  0 35  0  0  0  0]\n",
            " [ 2  0  0  0  0  0  5  0  0  0]\n",
            " [ 0  0  0  0  0  8  0 17  0  0]\n",
            " [ 0  0  0  0  0  3  0  0  0  0]\n",
            " [ 0  0  1  0  0  0  0  0  0  9]]\n"
          ],
          "name": "stdout"
        }
      ]
    },
    {
      "metadata": {
        "id": "BErD1cZq_nCS",
        "colab_type": "code",
        "colab": {}
      },
      "cell_type": "code",
      "source": [
        "## testar um único exemplo\n",
        "exemplo_=projected_val[1,]\n",
        "exemplo = exemplo_.reshape((1, 14))\n",
        "pred_svm = svm.predict(exemplo)\n",
        "pred_mlp = mlp.predict(exemplo)"
      ],
      "execution_count": 0,
      "outputs": []
    },
    {
      "metadata": {
        "id": "YHW9BIyl_nCq",
        "colab_type": "code",
        "outputId": "0d367049-7f92-41cb-8432-c67afa243077",
        "colab": {
          "base_uri": "https://localhost:8080/",
          "height": 119
        }
      },
      "cell_type": "code",
      "source": [
        "print('Exemplo: ', exemplo)\n",
        "print('Predict SVM:', pred_svm)\n",
        "print('Predict MLP', pred_mlp)"
      ],
      "execution_count": 87,
      "outputs": [
        {
          "output_type": "stream",
          "text": [
            "Exemplo:  [[-1.45475948e+00 -5.45174260e-02  6.38442352e-01  5.15963959e-02\n",
            "   3.88403457e-02 -2.97136256e-02 -2.02774262e-03 -8.85043328e-03\n",
            "   1.25114484e-03  6.10461174e-03 -9.98377155e-04 -9.54825879e-04\n",
            "   2.90494191e-03  2.23733009e-05]]\n",
            "Predict SVM: [0]\n",
            "Predict MLP [6]\n"
          ],
          "name": "stdout"
        }
      ]
    },
    {
      "metadata": {
        "id": "pdYiVEXB_nC2",
        "colab_type": "code",
        "colab": {}
      },
      "cell_type": "code",
      "source": [
        ""
      ],
      "execution_count": 0,
      "outputs": []
    }
  ]
}